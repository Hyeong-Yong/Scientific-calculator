{
 "cells": [
  {
   "cell_type": "code",
   "execution_count": 1,
   "metadata": {},
   "outputs": [
    {
     "name": "stdout",
     "output_type": "stream",
     "text": [
      "Conversion time : 0.1875 us\n",
      "Conversion frequency : 5333.333333333333 KHz\n"
     ]
    }
   ],
   "source": [
    "# ADC total conversion \n",
    "#stm32 board\n",
    "#T_conv = Sampling time + 12.5 cycles\n",
    "# example: ADCCLK = 50 MHz and Sampling time = 2.5 cycles\n",
    "import math\n",
    "adc_clk = 80*math.pow(10, 6)\n",
    "sampling_time = 2.5\n",
    "T_conv = (sampling_time + 12.5)/adc_clk\n",
    "print ('Conversion time :', T_conv*math.pow(10,6), 'us') \n",
    "print ('Conversion frequency :', (1/T_conv)/(math.pow(10, 3)), 'KHz')\n",
    "\n",
    " "
   ]
  },
  {
   "cell_type": "code",
   "execution_count": 8,
   "metadata": {},
   "outputs": [
    {
     "name": "stdout",
     "output_type": "stream",
     "text": [
      "Sampling_time:  10.0 us\n"
     ]
    }
   ],
   "source": [
    "# rate -> time\n",
    "\n",
    "import math\n",
    "\n",
    "sampling_rate = 100 * math.pow(10, 3) # 2 MHz\n",
    "\n",
    "sampling_time = 1/sampling_rate \n",
    "sampling_time *= math.pow(10, 6)\n",
    "print('Sampling_time: ', sampling_time, 'us')\n",
    "\n"
   ]
  },
  {
   "cell_type": "code",
   "execution_count": 14,
   "metadata": {},
   "outputs": [
    {
     "name": "stdout",
     "output_type": "stream",
     "text": [
      "Sampling rate:  1.9999999999999998 MHz\n"
     ]
    }
   ],
   "source": [
    "# time -> rate\n",
    "\n",
    "import math\n",
    "\n",
    "sampling_time = 500 *math.pow(10, -9) # 500 ns\n",
    "\n",
    "sampling_rate = 1/ sampling_time\n",
    "\n",
    "sampling_rate *= math.pow(10, -6)\n",
    "print('Sampling rate: ', sampling_rate, 'MHz')\n",
    "\n"
   ]
  }
 ],
 "metadata": {
  "kernelspec": {
   "display_name": "Python 3",
   "language": "python",
   "name": "python3"
  },
  "language_info": {
   "codemirror_mode": {
    "name": "ipython",
    "version": 3
   },
   "file_extension": ".py",
   "mimetype": "text/x-python",
   "name": "python",
   "nbconvert_exporter": "python",
   "pygments_lexer": "ipython3",
   "version": "3.11.1"
  },
  "orig_nbformat": 4
 },
 "nbformat": 4,
 "nbformat_minor": 2
}
