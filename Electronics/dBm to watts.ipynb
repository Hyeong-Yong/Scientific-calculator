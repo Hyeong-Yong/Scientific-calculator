{
 "cells": [
  {
   "cell_type": "code",
   "execution_count": 20,
   "metadata": {},
   "outputs": [
    {
     "name": "stdout",
     "output_type": "stream",
     "text": [
      "Watt :  79.43282347242814 [uW]\n"
     ]
    }
   ],
   "source": [
    "# dBm to Watts (V, A)\n",
    "import math\n",
    "\n",
    "\n",
    "# -------------------------------Watts------------------------------------#\n",
    "# P = 1 * 10^(P_dBm/10)/1000\n",
    "\n",
    "P_dBm = -11 # enter the dBm\n",
    "\n",
    "P = 1**(P_dBm/10)/1000\n",
    "P_mW = P*1000 # conversion : W to mW\n",
    "P_uW = P_mW*1000 # conversion : mW to uW\n",
    "\n",
    "#print(\"Watt : \", P_mW, \"[mW]\")\n",
    "print(\"Watt : \", P_uW, \"[uW]\")\n",
    "\n",
    "# -------------------------------Voltage or Current------------------------------------#\n",
    "# V(or A) = 1 * 10^(V_dBm/20)/1000\n",
    "\n",
    "V_dBm = -11 # enter the dBm\n",
    "\n",
    "V = 1**(V_dBm/20)/1000\n",
    "V_mV = V*1000 # conversion : W to mW\n",
    "V_uV = V_mV*1000 # conversion : mW to uW\n",
    "\n",
    "#print(\"Watt : \", V_mV, \"[mV]\")\n",
    "#print(\"Watt : \", V_uV, \"[uV]\")\n",
    "\n"
   ]
  },
  {
   "cell_type": "code",
   "execution_count": 25,
   "metadata": {},
   "outputs": [
    {
     "name": "stdout",
     "output_type": "stream",
     "text": [
      "dB : 0.0 [dB]\n"
     ]
    }
   ],
   "source": [
    "# output/input => dB \n",
    "import math\n",
    "\n",
    "P_out = 100 # output voltage\n",
    "P_in = 100 # input voltage\n",
    "\n",
    "Gain= P_out/P_in\n",
    "\n",
    "dB = 10*math.log10(Gain)\n",
    "\n",
    "print(\"dB :\", dB, \"[dB]\")\n",
    "\n"
   ]
  }
 ],
 "metadata": {
  "kernelspec": {
   "display_name": "Python 3",
   "language": "python",
   "name": "python3"
  },
  "language_info": {
   "codemirror_mode": {
    "name": "ipython",
    "version": 3
   },
   "file_extension": ".py",
   "mimetype": "text/x-python",
   "name": "python",
   "nbconvert_exporter": "python",
   "pygments_lexer": "ipython3",
   "version": "3.11.3"
  },
  "orig_nbformat": 4
 },
 "nbformat": 4,
 "nbformat_minor": 2
}
