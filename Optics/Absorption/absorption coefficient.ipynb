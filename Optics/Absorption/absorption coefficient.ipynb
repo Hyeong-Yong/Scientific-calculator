{
 "cells": [
  {
   "cell_type": "code",
   "execution_count": 1,
   "metadata": {},
   "outputs": [
    {
     "name": "stdout",
     "output_type": "stream",
     "text": [
      "absorption percentage :  1.1108996538242306 [%]\n"
     ]
    }
   ],
   "source": [
    "# Absorption law\n",
    "import math\n",
    "I_0 = 1\n",
    "alpha= 150 # [cm^-1]\n",
    "x= 300 # [um]\n",
    "x_cm = x*math.pow(10, -4) #[cm]\n",
    "I = I_0 * math.exp(-alpha*x_cm)\n",
    "\n",
    "print(\"absorption percentage : \", I/I_0 *100, \"[%]\")\n",
    "\n"
   ]
  },
  {
   "cell_type": "code",
   "execution_count": null,
   "metadata": {},
   "outputs": [],
   "source": [
    "# absorption coefficient vs distance\n",
    "\n"
   ]
  }
 ],
 "metadata": {
  "kernelspec": {
   "display_name": "Python 3",
   "language": "python",
   "name": "python3"
  },
  "language_info": {
   "codemirror_mode": {
    "name": "ipython",
    "version": 3
   },
   "file_extension": ".py",
   "mimetype": "text/x-python",
   "name": "python",
   "nbconvert_exporter": "python",
   "pygments_lexer": "ipython3",
   "version": "3.11.3"
  },
  "orig_nbformat": 4
 },
 "nbformat": 4,
 "nbformat_minor": 2
}
