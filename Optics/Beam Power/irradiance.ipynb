{
 "cells": [
  {
   "cell_type": "markdown",
   "metadata": {},
   "source": [
    "Maximum laser Power for saturation irradiance"
   ]
  },
  {
   "cell_type": "code",
   "execution_count": 7,
   "metadata": {},
   "outputs": [
    {
     "name": "stdout",
     "output_type": "stream",
     "text": [
      "Max laser power :  176.71458676442586 [mW]\n"
     ]
    }
   ],
   "source": [
    "import math\n",
    "\n",
    "#saturation irradiance of NV center : 0.9 MW/cm^2\n",
    "\n",
    "diameter_cm = 5*math.pow(10, -4) \n",
    "beam_circleArea = math.pi * (diameter_cm/2)**2\n",
    "\n",
    "Max_laserPower=0.9 *math.pow(10, 6)*beam_circleArea\n",
    "print(\"Max laser power : \", Max_laserPower*1000, \"[mW]\")\n"
   ]
  },
  {
   "cell_type": "code",
   "execution_count": 3,
   "metadata": {},
   "outputs": [
    {
     "name": "stdout",
     "output_type": "stream",
     "text": [
      "theta : 24.62431835216408\n"
     ]
    }
   ],
   "source": [
    "import math \n",
    "\n",
    "\n",
    "theta = math.asin(1/2.4)\n",
    "print(\"theta :\", theta * 180/math.pi)"
   ]
  }
 ],
 "metadata": {
  "kernelspec": {
   "display_name": "base",
   "language": "python",
   "name": "python3"
  },
  "language_info": {
   "codemirror_mode": {
    "name": "ipython",
    "version": 3
   },
   "file_extension": ".py",
   "mimetype": "text/x-python",
   "name": "python",
   "nbconvert_exporter": "python",
   "pygments_lexer": "ipython3",
   "version": "3.10.9"
  }
 },
 "nbformat": 4,
 "nbformat_minor": 2
}
