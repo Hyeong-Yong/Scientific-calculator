{
 "cells": [
  {
   "cell_type": "code",
   "execution_count": 8,
   "metadata": {},
   "outputs": [
    {
     "name": "stdout",
     "output_type": "stream",
     "text": [
      "NA :  0.17364817766693033\n",
      "spot size :  4445.862953314616 [nm]\n"
     ]
    }
   ],
   "source": [
    "import math \n",
    "\n",
    "\n",
    "# D: beam spot size\n",
    "# Lambda : wavelength\n",
    "# NA : numerical aperature\n",
    "# n : refractive index\n",
    "# theta : half incident angle of the converging beam\n",
    "theta = 10 * math.pi / 180 # [rad]\n",
    "n = 1\n",
    "NA = n * math.sin(theta) \n",
    "Lambda = 632.8 * 10**(-9) # [m]\n",
    "\n",
    "S = 1.22 * Lambda / NA\n",
    "print(\"NA : \", NA)\n",
    "print(\"spot size : \", S*10**(9) , \"[nm]\") \n"
   ]
  }
 ],
 "metadata": {
  "kernelspec": {
   "display_name": "Python 3",
   "language": "python",
   "name": "python3"
  },
  "language_info": {
   "codemirror_mode": {
    "name": "ipython",
    "version": 3
   },
   "file_extension": ".py",
   "mimetype": "text/x-python",
   "name": "python",
   "nbconvert_exporter": "python",
   "pygments_lexer": "ipython3",
   "version": "3.11.1"
  },
  "orig_nbformat": 4
 },
 "nbformat": 4,
 "nbformat_minor": 2
}
