{
 "cells": [
  {
   "cell_type": "code",
   "execution_count": 8,
   "metadata": {},
   "outputs": [
    {
     "name": "stdout",
     "output_type": "stream",
     "text": [
      "NA :  0.17364817766693033\n",
      "spot size :  4445.862953314616 [nm]\n"
     ]
    }
   ],
   "source": [
    "import math \n",
    "\n",
    "\n",
    "# D: beam spot size\n",
    "# Lambda : wavelength\n",
    "# NA : numerical aperature\n",
    "# n : refractive index\n",
    "# theta : half incident angle of the converging beam\n",
    "theta = 10 * math.pi / 180 # [rad]\n",
    "n = 1\n",
    "NA = n * math.sin(theta) \n",
    "Lambda = 632.8 * 10**(-9) # [m]\n",
    "\n",
    "S = 1.22 * Lambda / NA\n",
    "print(\"NA : \", NA)\n",
    "print(\"spot size : \", S*10**(9) , \"[nm]\") \n"
   ]
  },
  {
   "cell_type": "code",
   "execution_count": null,
   "metadata": {},
   "outputs": [
    {
     "name": "stdout",
     "output_type": "stream",
     "text": [
      "Transition frequency [THz] = 2.2683671032188297e-15\n",
      "|mu| [C·m] = 0.0\n",
      "tau_14P [s] ~ 260838.7317650847   tau_13D [s] ~ 1214943.5569666845\n"
     ]
    },
    {
     "ename": "TypeError",
     "evalue": "StarkMap.__init__() takes 2 positional arguments but 11 were given",
     "output_type": "error",
     "traceback": [
      "\u001b[1;31m---------------------------------------------------------------------------\u001b[0m",
      "\u001b[1;31mTypeError\u001b[0m                                 Traceback (most recent call last)",
      "Cell \u001b[1;32mIn[1], line 32\u001b[0m\n\u001b[0;32m     25\u001b[0m \u001b[38;5;66;03m# (C-2) 특정 방출선(예: 535 nm) 관련 분기비(가능한 경우)\u001b[39;00m\n\u001b[0;32m     26\u001b[0m \u001b[38;5;66;03m# ARC 버전에 따라 getTransitionRate 사용 가능:\u001b[39;00m\n\u001b[0;32m     27\u001b[0m \u001b[38;5;66;03m# A_13D_to_6P = cs.getTransitionRate(nD,lD,jD, 6,1,1.5)  # 13D5/2 → 6P3/2\u001b[39;00m\n\u001b[0;32m     28\u001b[0m \u001b[38;5;66;03m# 총 A와의 비로 분기비 추정 → 535 nm 주 경로 정량화\u001b[39;00m\n\u001b[0;32m     29\u001b[0m \n\u001b[0;32m     30\u001b[0m \u001b[38;5;66;03m# (D) Stark map: 약한 DC field에서 공명 이동\u001b[39;00m\n\u001b[0;32m     31\u001b[0m \u001b[38;5;28;01mfrom\u001b[39;00m \u001b[38;5;21;01marc\u001b[39;00m \u001b[38;5;28;01mimport\u001b[39;00m StarkMap\n\u001b[1;32m---> 32\u001b[0m sm \u001b[38;5;241m=\u001b[39m \u001b[43mStarkMap\u001b[49m\u001b[43m(\u001b[49m\u001b[43mcs\u001b[49m\u001b[43m,\u001b[49m\u001b[43m \u001b[49m\u001b[43mnP\u001b[49m\u001b[43m,\u001b[49m\u001b[43m \u001b[49m\u001b[43mlP\u001b[49m\u001b[43m,\u001b[49m\u001b[43m \u001b[49m\u001b[43mjP\u001b[49m\u001b[43m,\u001b[49m\u001b[43m \u001b[49m\u001b[43mmjP\u001b[49m\u001b[43m,\u001b[49m\u001b[43m \u001b[49m\u001b[43mnD\u001b[49m\u001b[43m,\u001b[49m\u001b[43m \u001b[49m\u001b[43mlD\u001b[49m\u001b[43m,\u001b[49m\u001b[43m \u001b[49m\u001b[43mjD\u001b[49m\u001b[43m,\u001b[49m\u001b[43m \u001b[49m\u001b[43mmjD\u001b[49m\u001b[43m,\u001b[49m\u001b[43m \u001b[49m\u001b[38;5;241;43m0\u001b[39;49m\u001b[43m)\u001b[49m  \u001b[38;5;66;03m# 0: B=0 T\u001b[39;00m\n\u001b[0;32m     33\u001b[0m sm\u001b[38;5;241m.\u001b[39mdefineBasis( nMin\u001b[38;5;241m=\u001b[39m\u001b[38;5;241m10\u001b[39m, nMax\u001b[38;5;241m=\u001b[39m\u001b[38;5;241m18\u001b[39m, lMax\u001b[38;5;241m=\u001b[39m\u001b[38;5;241m5\u001b[39m)               \u001b[38;5;66;03m# 근방 상태 포함\u001b[39;00m\n\u001b[0;32m     34\u001b[0m Es \u001b[38;5;241m=\u001b[39m [\u001b[38;5;241m0.0\u001b[39m, \u001b[38;5;241m5.0\u001b[39m, \u001b[38;5;241m10.0\u001b[39m]  \u001b[38;5;66;03m# V/m 예시 (셀 표면전하 등으로 생길 수 있는 오프셋)\u001b[39;00m\n",
      "\u001b[1;31mTypeError\u001b[0m: StarkMap.__init__() takes 2 positional arguments but 11 were given"
     ]
    }
   ],
   "source": []
  }
 ],
 "metadata": {
  "kernelspec": {
   "display_name": "Python 3",
   "language": "python",
   "name": "python3"
  },
  "language_info": {
   "codemirror_mode": {
    "name": "ipython",
    "version": 3
   },
   "file_extension": ".py",
   "mimetype": "text/x-python",
   "name": "python",
   "nbconvert_exporter": "python",
   "pygments_lexer": "ipython3",
   "version": "3.11.1"
  },
  "orig_nbformat": 4
 },
 "nbformat": 4,
 "nbformat_minor": 2
}
