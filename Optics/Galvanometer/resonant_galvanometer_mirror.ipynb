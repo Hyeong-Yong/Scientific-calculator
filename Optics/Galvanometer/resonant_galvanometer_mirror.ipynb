{
 "cells": [
  {
   "cell_type": "code",
   "execution_count": 26,
   "metadata": {},
   "outputs": [
    {
     "name": "stdout",
     "output_type": "stream",
     "text": [
      "return time: 0.5 ms\n",
      "acqusition time of 1 pixel at each the line:  1.0 us\n",
      "Frames: 2.6666666666666665 frame/s\n"
     ]
    }
   ],
   "source": [
    "# 길이: 50 mm 0.1mm로 분해하여 측정, 500번, 즉, 500 pixels \n",
    "# \n",
    "import math\n",
    "\n",
    "\n",
    "# x- galvano mirror \n",
    "resonant_frequency = 2000 # [Hz]\n",
    "\n",
    "return_time_x = 1/resonant_frequency\n",
    "\n",
    "print('return time:', return_time_x*1000, 'ms') # s => ms\n",
    "\n",
    "# acquisition time per pixels (500 pixels at 1 line)  \n",
    "acqusition_time_oneline = return_time_x /500 \n",
    "print('acqusition time of 1 pixel at each the line: ', acqusition_time_oneline *math.pow(10, 6), 'us') #s=>us\n",
    "\n",
    "\n",
    "# acquisition time of total frame (500 *500 pixels)\n",
    "# y- general galvano mirror \n",
    "galvano_mirror_y_response_time = 250 * math.pow(10, -6)\n",
    "pixels_y = 500\n",
    "total_acquisition_time = return_time_x * pixels_y +(galvano_mirror_y_response_time*500)\n",
    "                             #ms                     #us\n",
    "print('THe number of frames:',1/total_acquisition_time, 'frame/s') "
   ]
  },
  {
   "cell_type": "code",
   "execution_count": null,
   "metadata": {},
   "outputs": [],
   "source": []
  }
 ],
 "metadata": {
  "kernelspec": {
   "display_name": "Python 3",
   "language": "python",
   "name": "python3"
  },
  "language_info": {
   "codemirror_mode": {
    "name": "ipython",
    "version": 3
   },
   "file_extension": ".py",
   "mimetype": "text/x-python",
   "name": "python",
   "nbconvert_exporter": "python",
   "pygments_lexer": "ipython3",
   "version": "3.11.1"
  },
  "orig_nbformat": 4
 },
 "nbformat": 4,
 "nbformat_minor": 2
}
