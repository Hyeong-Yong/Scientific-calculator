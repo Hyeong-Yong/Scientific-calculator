{
 "cells": [
  {
   "cell_type": "markdown",
   "metadata": {},
   "source": [
    "Wollaston prism: 각도에 따른 두 빔 간의 거리 "
   ]
  },
  {
   "cell_type": "code",
   "execution_count": 25,
   "metadata": {},
   "outputs": [
    {
     "name": "stdout",
     "output_type": "stream",
     "text": [
      "height : 0.05236179161148594\n"
     ]
    }
   ],
   "source": [
    "import math\n",
    "\n",
    "angle_degree = 0.6\n",
    "distance = 5\n",
    "\n",
    "angle_radian = angle_degree*(math.pi/180)\n",
    "\n",
    "h = distance*math.tan(angle_radian)\n",
    "\n",
    "print(\"height :\", h)\n"
   ]
  }
 ],
 "metadata": {
  "kernelspec": {
   "display_name": "Python 3",
   "language": "python",
   "name": "python3"
  },
  "language_info": {
   "codemirror_mode": {
    "name": "ipython",
    "version": 3
   },
   "file_extension": ".py",
   "mimetype": "text/x-python",
   "name": "python",
   "nbconvert_exporter": "python",
   "pygments_lexer": "ipython3",
   "version": "3.11.1"
  }
 },
 "nbformat": 4,
 "nbformat_minor": 2
}
