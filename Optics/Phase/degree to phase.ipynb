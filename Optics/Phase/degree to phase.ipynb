{
 "cells": [
  {
   "cell_type": "code",
   "execution_count": 6,
   "metadata": {},
   "outputs": [
    {
     "name": "stdout",
     "output_type": "stream",
     "text": [
      "114.59155902616465\n"
     ]
    }
   ],
   "source": [
    "# rad to degree converter\n",
    "import math\n",
    "\n",
    "rad = 2\n",
    "\n",
    "degree = 180/math.pi *rad\n",
    "print(degree)"
   ]
  },
  {
   "cell_type": "code",
   "execution_count": 10,
   "metadata": {},
   "outputs": [
    {
     "name": "stdout",
     "output_type": "stream",
     "text": [
      "0.959931088596881\n"
     ]
    }
   ],
   "source": [
    "import math\n",
    "\n",
    "degree1 = 180\n",
    "degree2 = 125\n",
    "rad1 = math.pi/180 *degree1\n",
    "rad2 = math.pi/180 *degree2\n",
    "print(rad1-rad2)\n",
    "\n"
   ]
  },
  {
   "cell_type": "code",
   "execution_count": 13,
   "metadata": {},
   "outputs": [
    {
     "name": "stdout",
     "output_type": "stream",
     "text": [
      "0.08610379466968547\n"
     ]
    }
   ],
   "source": [
    "\n",
    "theta = 0.39 # phase difference\n",
    "wavelength = 0.91 #[mm]\n",
    "n= 1.656 # refractive index\n",
    "n_0= 1 # refractive index of air\n",
    "\n",
    "d=theta*wavelength/(2*math.pi*(n-n_0))\n",
    "print(d)"
   ]
  }
 ],
 "metadata": {
  "kernelspec": {
   "display_name": "Python 3",
   "language": "python",
   "name": "python3"
  },
  "language_info": {
   "codemirror_mode": {
    "name": "ipython",
    "version": 3
   },
   "file_extension": ".py",
   "mimetype": "text/x-python",
   "name": "python",
   "nbconvert_exporter": "python",
   "pygments_lexer": "ipython3",
   "version": "3.11.3"
  },
  "orig_nbformat": 4
 },
 "nbformat": 4,
 "nbformat_minor": 2
}
