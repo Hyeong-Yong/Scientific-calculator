{
 "cells": [
  {
   "cell_type": "code",
   "execution_count": 6,
   "metadata": {},
   "outputs": [
    {
     "name": "stdout",
     "output_type": "stream",
     "text": [
      "depth resolution :  127761.09821027848 [um]\n"
     ]
    }
   ],
   "source": [
    "import math\n",
    "\n",
    "refractive_index = 1.5\n",
    "wavelength_center = 10000\n",
    "wavelength_bandwidth = 100\n",
    "depth_resolution = 2* math.log10(2)/math.pi*wavelength_center**2/(refractive_index*wavelength_bandwidth)\n",
    "print(\"depth resolution : \", depth_resolution, \"[um]\")"
   ]
  }
 ],
 "metadata": {
  "kernelspec": {
   "display_name": "Python 3",
   "language": "python",
   "name": "python3"
  },
  "language_info": {
   "codemirror_mode": {
    "name": "ipython",
    "version": 3
   },
   "file_extension": ".py",
   "mimetype": "text/x-python",
   "name": "python",
   "nbconvert_exporter": "python",
   "pygments_lexer": "ipython3",
   "version": "3.11.1"
  }
 },
 "nbformat": 4,
 "nbformat_minor": 2
}
