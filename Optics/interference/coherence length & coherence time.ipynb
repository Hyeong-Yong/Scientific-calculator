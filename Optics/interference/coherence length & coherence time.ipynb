{
 "cells": [
  {
   "cell_type": "code",
   "execution_count": 23,
   "metadata": {},
   "outputs": [
    {
     "name": "stdout",
     "output_type": "stream",
     "text": [
      "Coherence length : 3.853333333333333e-05 [m]\n",
      "Coherence time : 1.2844444444444445e-13 [s]\n"
     ]
    }
   ],
   "source": [
    "import math\n",
    "\n",
    "\n",
    "#L_c : Coherence length\n",
    "#t_c : coherence time\n",
    "#lambda_c : central wavelength\n",
    "#Delta_lambda : spectral width\n",
    "lambda_c = 680 * 10**(-9) #[m]\n",
    "Delta_lambda = 12 * 10**(-9)#[m]\n",
    "c = 3 * 10**8# [m/s]\n",
    "\n",
    "L_c = (lambda_c**2 / Delta_lambda)\n",
    "print('Coherence length :', L_c, '[m]')\n",
    "t_c = L_c/c   \n",
    "\n",
    "print('Coherence time :', t_c, '[s]')\n",
    "\n"
   ]
  }
 ],
 "metadata": {
  "kernelspec": {
   "display_name": "Python 3",
   "language": "python",
   "name": "python3"
  },
  "language_info": {
   "codemirror_mode": {
    "name": "ipython",
    "version": 3
   },
   "file_extension": ".py",
   "mimetype": "text/x-python",
   "name": "python",
   "nbconvert_exporter": "python",
   "pygments_lexer": "ipython3",
   "version": "3.11.1"
  },
  "orig_nbformat": 4
 },
 "nbformat": 4,
 "nbformat_minor": 2
}
