{
 "cells": [
  {
   "cell_type": "code",
   "execution_count": 5,
   "metadata": {},
   "outputs": [
    {
     "name": "stdout",
     "output_type": "stream",
     "text": [
      "rise time response :  0.21874999999999997 [us]\n"
     ]
    }
   ],
   "source": [
    "import math\n",
    "#f_BW :bandwidth, R :load resistance, C : junction capacitance\n",
    "#f_BW = 1/(2*math.pi*R*C)\n",
    "#A load resistor will react with the photodetector junction capacitance to limit the bandwidth. \n",
    "#For best frequency response, a 50 Ω terminator should be used in conjunction with a 50 Ω coaxial cable. The bandwidth (fBW) and the rise time response (tr) can be approximated using the junction capacitance (Cj) and the load resistance (RLOAD):\n",
    "\n",
    "f_BW = 1.6 #[MHz]\n",
    "\n",
    "#t_r : rise time response\n",
    "t_r = 0.35/f_BW\n",
    "print(\"rise time response : \", t_r, \"[us]\")"
   ]
  }
 ],
 "metadata": {
  "kernelspec": {
   "display_name": "base",
   "language": "python",
   "name": "python3"
  },
  "language_info": {
   "codemirror_mode": {
    "name": "ipython",
    "version": 3
   },
   "file_extension": ".py",
   "mimetype": "text/x-python",
   "name": "python",
   "nbconvert_exporter": "python",
   "pygments_lexer": "ipython3",
   "version": "3.10.9"
  }
 },
 "nbformat": 4,
 "nbformat_minor": 2
}
