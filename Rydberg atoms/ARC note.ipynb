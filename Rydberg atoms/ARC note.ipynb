{
 "cells": [
  {
   "cell_type": "code",
   "execution_count": null,
   "id": "e26873f0",
   "metadata": {},
   "outputs": [
    {
     "ename": "NameError",
     "evalue": "name 'LevelPlot' is not defined",
     "output_type": "error",
     "traceback": [
      "\u001b[1;31m---------------------------------------------------------------------------\u001b[0m",
      "\u001b[1;31mNameError\u001b[0m                                 Traceback (most recent call last)",
      "Cell \u001b[1;32mIn[1], line 9\u001b[0m\n\u001b[0;32m      5\u001b[0m \u001b[38;5;28;01mfrom\u001b[39;00m \u001b[38;5;21;01marc\u001b[39;00m \u001b[38;5;28;01mimport\u001b[39;00m Caesium, Rubidium\n\u001b[0;32m      8\u001b[0m atom \u001b[38;5;241m=\u001b[39m Caesium() \n\u001b[1;32m----> 9\u001b[0m levels \u001b[38;5;241m=\u001b[39m \u001b[43mLevelPlot\u001b[49m(atom) \n\u001b[0;32m     10\u001b[0m \u001b[38;5;66;03m# parameters: nmin, nmax, lmin, lmax \u001b[39;00m\n\u001b[0;32m     11\u001b[0m levels\u001b[38;5;241m.\u001b[39mmakeLevels(\u001b[38;5;241m6\u001b[39m,\u001b[38;5;241m60\u001b[39m,\u001b[38;5;241m0\u001b[39m,\u001b[38;5;241m3\u001b[39m) \n",
      "\u001b[1;31mNameError\u001b[0m: name 'LevelPlot' is not defined"
     ]
    }
   ],
   "source": [
    "import math, time, random\n",
    "from dataclasses import dataclass\n",
    "from typing import List, Tuple\n",
    "import pandas as pd\n",
    "from arc import *\n",
    "\n",
    "\n",
    "atom = Caesium() \n",
    "levels = LevelPlot(atom) \n",
    "# parameters: nmin, nmax, lmin, lmax \n",
    "levels.makeLevels(6,60,0,3) \n",
    "levels.drawLevels()\n",
    "levels.showPlot()"
   ]
  }
 ],
 "metadata": {
  "kernelspec": {
   "display_name": "Python 3",
   "language": "python",
   "name": "python3"
  },
  "language_info": {
   "codemirror_mode": {
    "name": "ipython",
    "version": 3
   },
   "file_extension": ".py",
   "mimetype": "text/x-python",
   "name": "python",
   "nbconvert_exporter": "python",
   "pygments_lexer": "ipython3",
   "version": "3.11.1"
  }
 },
 "nbformat": 4,
 "nbformat_minor": 5
}
