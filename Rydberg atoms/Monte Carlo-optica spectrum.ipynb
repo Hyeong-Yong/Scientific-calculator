{
 "cells": [
  {
   "cell_type": "markdown",
   "id": "77fa1f1c",
   "metadata": {},
   "source": [
    "셀 1 — 준비/헬퍼"
   ]
  },
  {
   "cell_type": "code",
   "execution_count": 1,
   "id": "8e7fe6b1",
   "metadata": {},
   "outputs": [],
   "source": [
    "import math, random, numpy as np, pandas as pd\n",
    "import matplotlib.pyplot as plt\n",
    "\n",
    "from arc import Caesium, Rubidium  # 원자 선택\n",
    "\n",
    "# 사용자 설정\n",
    "ATOM = \"Cs\"                         # \"Cs\" 또는 \"Rb\"\n",
    "START_STATE = (14, 1, 1.5)          # (n, l, j) 예: 14P3/2 → (14,1,1.5)\n",
    "SHOTS = 10000                       # Monte Carlo 샷(커질수록 매끄러움↑)\n",
    "MAX_STEPS = 10                      # 캐스케이드 최대 단계\n",
    "VISIBLE_WINDOW = (500e-9, 600e-9)   # 500–600 nm\n",
    "SEED = 7\n",
    "random.seed(SEED)\n",
    "\n",
    "def make_atom(name=\"Cs\"):\n",
    "    return Caesium() if name.lower() in (\"cs\",\"caesium\",\"cesium\") else Rubidium()\n",
    "\n",
    "def l_to_letter(l):\n",
    "    return \"SPDFGH\"[l] if l < 6 else f\"L{l}\"\n",
    "\n",
    "def state_str(s):\n",
    "    n,l,j = s\n",
    "    return f\"{n}{l_to_letter(l)}_{int(2*j)}/2\"\n",
    "\n",
    "def in_window(lam_m, win):\n",
    "    return lam_m>0 and (win[0] <= lam_m <= win[1])\n"
   ]
  },
  {
   "cell_type": "markdown",
   "id": "477e44d3",
   "metadata": {},
   "source": [
    "셀 2 — 가능한 하향 전이/전이율, 1회 캐스케이드, 스펙트럼 생성"
   ]
  },
  {
   "cell_type": "code",
   "execution_count": 2,
   "id": "f86145ec",
   "metadata": {},
   "outputs": [],
   "source": [
    "def allowed_lowers(atom, s, n_floor=5):\n",
    "    \"\"\"상태 s=(n,l,j)에서 E1 허용 하향 후보 생성 + A (Einstein rate) 계산.\"\"\"\n",
    "    n,l,j = s\n",
    "    outs = []\n",
    "    for lp in (l-1, l+1):\n",
    "        if lp < 0: \n",
    "            continue\n",
    "        for jp in (lp-0.5, lp+0.5):\n",
    "            if jp <= 0:\n",
    "                continue\n",
    "            # n' 범위: [n_floor .. n-1]\n",
    "            for np_ in range(max(n_floor,5), n):\n",
    "                try:\n",
    "                    A = atom.getTransitionRate(n,l,j, np_,lp,jp)  # [s^-1]\n",
    "                except Exception:\n",
    "                    A = 0.0\n",
    "                if A > 0:\n",
    "                    outs.append(((np_,lp,jp), A))\n",
    "    return outs  # [(state', A), ...]\n",
    "\n",
    "def cascade_once(atom, start, max_steps=10):\n",
    "    \"\"\"1회 붕괴 시뮬레이션: 방출된 파장 리스트(미터 단위) 반환.\"\"\"\n",
    "    s = start\n",
    "    emitted = []\n",
    "    for _ in range(max_steps):\n",
    "        candidates = allowed_lowers(atom, s)\n",
    "        if not candidates:\n",
    "            break\n",
    "        # A로 가중한 무작위 선택\n",
    "        Avals = np.array([A for _,A in candidates], dtype=float)\n",
    "        pick = random.random() * Avals.sum()\n",
    "        acc = 0.0\n",
    "        next_state = None\n",
    "        for (t,A) in candidates:\n",
    "            acc += A\n",
    "            if pick <= acc:\n",
    "                next_state = t\n",
    "                break\n",
    "        # 방출 파장 기록\n",
    "        try:\n",
    "            lam = abs(atom.getTransitionWavelength(*s, *next_state))  # [m]\n",
    "        except Exception:\n",
    "            lam = 0.0\n",
    "        if lam > 0:\n",
    "            emitted.append(lam)\n",
    "        # 낮은 준위(대략 n<=7, l<=1)에서 종료\n",
    "        if next_state[0] <= 7 and next_state[1] <= 1:\n",
    "            break\n",
    "        s = next_state\n",
    "    return emitted\n",
    "\n",
    "def spectrum_mc(atom, start, shots=10000, max_steps=10):\n",
    "    \"\"\"여러 샷에서 파장 누적 → numpy array (m) 반환.\"\"\"\n",
    "    bag = []\n",
    "    for _ in range(shots):\n",
    "        bag.extend(cascade_once(atom, start, max_steps=max_steps))\n",
    "    return np.array(bag, dtype=float)\n"
   ]
  },
  {
   "cell_type": "markdown",
   "id": "35b0b918",
   "metadata": {},
   "source": [
    "셀 3 — 실행 & 그래프 (히스토그램)"
   ]
  },
  {
   "cell_type": "code",
   "execution_count": null,
   "id": "101ab5d4",
   "metadata": {},
   "outputs": [
    {
     "name": "stdout",
     "output_type": "stream",
     "text": [
      "Start: 14P_3/2 | 샷=10000, 단계≤10\n",
      "전체 방출수(가시권 350–750 nm): 1278\n",
      "500–600 nm 평균 광자수/여기: 0.0335\n"
     ]
    },
    {
     "data": {
      "image/png": "[encoded data removed]",
      "text/plain": [
       "<Figure size 800x400 with 1 Axes>"
      ]
     },
     "metadata": {},
     "output_type": "display_data"
    }
   ],
   "source": [
    "atom = make_atom(ATOM)\n",
    "wls_m = spectrum_mc(atom, START_STATE, shots=SHOTS, max_steps=MAX_STEPS)\n",
    "\n",
    "# nm로 변환 후, 가시권만 보기(예: 350–750 nm)\n",
    "wls_nm = wls_m * 1e9\n",
    "mask = (wls_nm > 350) & (wls_nm < 750)\n",
    "wls_nm_vis = wls_nm[mask]\n",
    "\n",
    "# 500–600 nm 수율(여기당 평균 광자수)\n",
    "vis_mask = (wls_nm > 500) & (wls_nm < 600)\n",
    "visible_yield = vis_mask.sum() / SHOTS\n",
    "\n",
    "print(f\"Start: {state_str(START_STATE)} | 샷={SHOTS}, 단계≤{MAX_STEPS}\")\n",
    "print(f\"전체 방출수(가시권 350–750 nm): {wls_nm_vis.size}\")\n",
    "print(f\"500–600 nm 평균 광자수/여기: {visible_yield:.4f}\")\n",
    "\n",
    "# 히스토그램 (빈 폭은 1nm 권장)\n",
    "bins = np.arange(350, 751, 1.0)\n",
    "fig, ax = plt.subplots(figsize=(8,4))\n",
    "ax.hist(wls_nm_vis, bins=bins)\n",
    "ax.set_xlabel(\"Wavelength (nm)\")\n",
    "ax.set_ylabel(\"Counts (arb.)\")\n",
    "ax.set_title(f\"MC spectrum from {state_str(START_STATE)} (shots={SHOTS})\")\n",
    "plt.show()\n",
    " "
   ]
  },
  {
   "cell_type": "markdown",
   "id": "584cd174",
   "metadata": {},
   "source": [
    "셀 4 — 라인 리스트(대략적인 피크 표)"
   ]
  },
  {
   "cell_type": "code",
   "execution_count": null,
   "id": "2bfbd77c",
   "metadata": {},
   "outputs": [],
   "source": [
    "# 1 nm bin으로 라인-카운트 집계 → 상위 라인 몇 개\n",
    "counts, edges = np.histogram(wls_nm_vis, bins=np.arange(350, 751, 1.0))\n",
    "centers = 0.5*(edges[:-1]+edges[1:])\n",
    "df_lines = (pd.DataFrame({\"λ_nm\": centers, \"counts\": counts})\n",
    "              .query(\"counts>0\")\n",
    "              .sort_values(\"counts\", ascending=False)\n",
    "              .head(20)\n",
    "              .reset_index(drop=True))\n",
    "df_lines\n"
   ]
  },
  {
   "cell_type": "markdown",
   "id": "3b00feaf",
   "metadata": {},
   "source": [
    "어떻게 해석하나요?\n",
    "히스토그램 봉우리가 바로 **가능한 붕괴선(여러 단계 포함)**의 상대 강도에 해당합니다(샷 수를 늘릴수록 이론적 분포에 수렴).\n",
    "콘솔에 찍히는 500–600 nm 평균 광자수/여기가 카메라 민감 대역에서의 기대 광자수(= Downes 논문의 pon 계열에 대응)입니다.\n",
    "시작 상태를 두 후보(예: nP↔(n−1)D) 각각에 대해 돌려서 스펙트럼과 수율을 비교하면, “THz로 어느 쪽 인구를 만들었을 때 변환 효율이 더 좋은가?”를 정량 비교할 수 있습니다.\n",
    "팁: 실제 THz는 두 상태를 혼합(라비 스플리팅)하므로, 두 스펙트럼의 가중합(가중치는 혼합 계수/점유율)으로 THz-on 스펙트럼을 근사할 수 있어요."
   ]
  }
 ],
 "metadata": {
  "kernelspec": {
   "display_name": "Python 3",
   "language": "python",
   "name": "python3"
  },
  "language_info": {
   "codemirror_mode": {
    "name": "ipython",
    "version": 3
   },
   "file_extension": ".py",
   "mimetype": "text/x-python",
   "name": "python",
   "nbconvert_exporter": "python",
   "pygments_lexer": "ipython3",
   "version": "3.11.1"
  }
 },
 "nbformat": 4,
 "nbformat_minor": 5
}
