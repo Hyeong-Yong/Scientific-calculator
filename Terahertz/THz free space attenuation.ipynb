{
 "cells": [
  {
   "cell_type": "code",
   "execution_count": 20,
   "metadata": {},
   "outputs": [
    {
     "name": "stdout",
     "output_type": "stream",
     "text": [
      "loss at 5m :  -0.07\n",
      "propagation loss at 5m :  932.3938199059484\n"
     ]
    }
   ],
   "source": [
    "import math\n",
    "\n",
    "#300GHz 7dB/km\n",
    "\n",
    "loss_km = -7 #[dB/km]\n",
    "loss_m = -7*0.01 #5m\n",
    "print(\"loss at 5m : \", loss_m)\n",
    "\n",
    "# % 10 log (Pout/Pin)*1000\n",
    "percentage_loss=10*math.exp(loss_m)*100\n",
    "\n",
    "print(\"propagation loss at 5m : \", percentage_loss)\n"
   ]
  }
 ],
 "metadata": {
  "kernelspec": {
   "display_name": "Python 3",
   "language": "python",
   "name": "python3"
  },
  "language_info": {
   "codemirror_mode": {
    "name": "ipython",
    "version": 3
   },
   "file_extension": ".py",
   "mimetype": "text/x-python",
   "name": "python",
   "nbconvert_exporter": "python",
   "pygments_lexer": "ipython3",
   "version": "3.11.1"
  }
 },
 "nbformat": 4,
 "nbformat_minor": 2
}
