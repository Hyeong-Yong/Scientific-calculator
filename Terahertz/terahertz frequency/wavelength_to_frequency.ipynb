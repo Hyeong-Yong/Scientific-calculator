{
 "cells": [
  {
   "cell_type": "code",
   "execution_count": 8,
   "metadata": {},
   "outputs": [
    {
     "name": "stdout",
     "output_type": "stream",
     "text": [
      "THz frequency (m): 323.16 [GHz]\n",
      "THz frequency (+): 328.16 [GHz]\n",
      "THz frequency (-): 318.16 [GHz]\n"
     ]
    }
   ],
   "source": [
    "import math\n",
    "\n",
    "# calculation on the THz beating frequency with respect to the two tune laser with around wavelength of 1550 nm.\n",
    "# f = c / wavelength\n",
    "# f_THz = f_1 - f_2\n",
    "\n",
    "c= 3*math.pow(10, 8) # [m/s]\n",
    "wavelength_ref = 1551.91 * math.pow(10, -9) # [m]\n",
    "\n",
    "wavelength_m = 1549.32 * math.pow(10, -9) # [m]\n",
    "wavelength_1 = 1549.28 * math.pow(10, -9) # [m]\n",
    "wavelength_2 = 1549.36 * math.pow(10, -9) # [m]\n",
    "\n",
    "frequency_ref = c/wavelength_ref\n",
    "frequency_m = c/wavelength_m\n",
    "frequency_1 = c/wavelength_1\n",
    "frequency_2 = c/wavelength_2\n",
    "\n",
    "\n",
    "f_m = abs(frequency_ref - frequency_m)\n",
    "f_m_GHz = f_m * math.pow(10, -9) # Hz => GHz\n",
    "\n",
    "print(\"THz frequency (m):\", round(f_m_GHz, 2), \"[GHz]\")\n",
    "\n",
    "f_1 = abs(frequency_ref - frequency_1)\n",
    "f_1_GHz = f_1 * math.pow(10, -9) # Hz => GHz\n",
    "\n",
    "print(\"THz frequency (+):\", round(f_1_GHz,2), \"[GHz]\")\n",
    "\n",
    "f_2 = abs(frequency_ref - frequency_2)\n",
    "f_2_GHz = f_2 * math.pow(10, -9) # Hz => GHz\n",
    "\n",
    "print(\"THz frequency (-):\", round(f_2_GHz,2), \"[GHz]\")\n"
   ]
  },
  {
   "cell_type": "code",
   "execution_count": 41,
   "metadata": {},
   "outputs": [
    {
     "name": "stdout",
     "output_type": "stream",
     "text": [
      "Frequency of reference laser:  193.3102\n",
      "Frequency of reference laser:  193.6333\n",
      "THz frequency:  323.1 [GHz]\n"
     ]
    }
   ],
   "source": [
    "import math\n",
    "\n",
    "# wavelength to frequency conversion\n",
    "# f = c / wavelength\n",
    "\n",
    "c= 3*math.pow(10, 8) # [m/s]\n",
    "wavelength_ref = 1551.91 * math.pow(10, -9) # [m]\n",
    "\n",
    "wavelength_tune = 1549.32 * math.pow(10, -9) # [m]\n",
    "\n",
    "frequency_ref = round(c/wavelength_ref * math.pow(10, -12), 4)\n",
    "frequency_tune = round(c/wavelength_tune * math.pow(10, -12), 4)\n",
    "\n",
    "\n",
    "\n",
    "print(\"Frequency of reference laser: \", frequency_ref)\n",
    "print(\"Frequency of tune: \", frequency_tune)\n",
    "\n",
    "frequency_THz = round(abs(frequency_ref-frequency_tune)*1000, 3)\n",
    "print(\"THz frequency: \", frequency_THz, \"[GHz]\")\n"
   ]
  },
  {
   "cell_type": "code",
   "execution_count": null,
   "metadata": {},
   "outputs": [],
   "source": []
  }
 ],
 "metadata": {
  "kernelspec": {
   "display_name": "Python 3",
   "language": "python",
   "name": "python3"
  },
  "language_info": {
   "codemirror_mode": {
    "name": "ipython",
    "version": 3
   },
   "file_extension": ".py",
   "mimetype": "text/x-python",
   "name": "python",
   "nbconvert_exporter": "python",
   "pygments_lexer": "ipython3",
   "version": "3.10.9"
  },
  "orig_nbformat": 4
 },
 "nbformat": 4,
 "nbformat_minor": 2
}
