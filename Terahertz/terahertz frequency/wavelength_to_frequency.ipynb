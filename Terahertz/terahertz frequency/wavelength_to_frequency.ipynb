{
 "cells": [
  {
   "cell_type": "code",
   "execution_count": 26,
   "metadata": {},
   "outputs": [
    {
     "name": "stdout",
     "output_type": "stream",
     "text": [
      "THz frequency (m): 323.16 [GHz]\n",
      "THz frequency (+): 328.16 [GHz]\n",
      "THz frequency (-): 318.16 [GHz]\n"
     ]
    }
   ],
   "source": [
    "import math\n",
    "\n",
    "# calculation on the THz beating frequency with respect to the two tune laser with around wavelength of 1550 nm.\n",
    "# f = c / lambda\n",
    "# f_THz = f_1 - f_2\n",
    "\n",
    "c= 3*math.pow(10, 8) # [m/s]\n",
    "lambda_ref = 1551.91 * math.pow(10, -9) # [m]\n",
    "\n",
    "lambda_m = 1549.32 * math.pow(10, -9) # [m]\n",
    "lambda_1 = 1549.28 * math.pow(10, -9) # [m]\n",
    "lambda_2 = 1549.36 * math.pow(10, -9) # [m]\n",
    "\n",
    "f_m = abs(c/lambda_ref - c/lambda_m)\n",
    "f_m_GHz = f_m * math.pow(10, -9) # Hz => GHz\n",
    "\n",
    "print(\"THz frequency (m):\", round(f_m_GHz, 2), \"[GHz]\")\n",
    "\n",
    "f_1 = abs(c/lambda_ref - c/lambda_1)\n",
    "f_1_GHz = f_1 * math.pow(10, -9) # Hz => GHz\n",
    "\n",
    "print(\"THz frequency (+):\", round(f_1_GHz,2), \"[GHz]\")\n",
    "\n",
    "f_2 = abs(c/lambda_ref - c/lambda_2)\n",
    "f_2_GHz = f_2 * math.pow(10, -9) # Hz => GHz\n",
    "\n",
    "print(\"THz frequency (-):\", round(f_2_GHz,2), \"[GHz]\")\n"
   ]
  }
 ],
 "metadata": {
  "kernelspec": {
   "display_name": "Python 3",
   "language": "python",
   "name": "python3"
  },
  "language_info": {
   "codemirror_mode": {
    "name": "ipython",
    "version": 3
   },
   "file_extension": ".py",
   "mimetype": "text/x-python",
   "name": "python",
   "nbconvert_exporter": "python",
   "pygments_lexer": "ipython3",
   "version": "3.11.3"
  },
  "orig_nbformat": 4
 },
 "nbformat": 4,
 "nbformat_minor": 2
}
