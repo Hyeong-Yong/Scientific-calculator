{
 "cells": [
  {
   "cell_type": "code",
   "execution_count": 1,
   "metadata": {},
   "outputs": [
    {
     "name": "stdout",
     "output_type": "stream",
     "text": [
      "Sampling frequency:  5.0 kHz\n"
     ]
    }
   ],
   "source": [
    "# time => frequency\n",
    "import math\n",
    "\n",
    "time_constant = 200 * math.pow(10, -6)\n",
    "\n",
    "Sampling_freuqency = (1/time_constant) / math.pow(10, 3)\n",
    "# 200kHz로 측정 가능 \n",
    "\n",
    "print ('Sampling frequency: ' ,Sampling_freuqency, 'kHz') \n",
    "\n"
   ]
  },
  {
   "cell_type": "code",
   "execution_count": 11,
   "metadata": {},
   "outputs": [
    {
     "name": "stdout",
     "output_type": "stream",
     "text": [
      "number of frame : 7.999999999999998  [frame/s]\n"
     ]
    }
   ],
   "source": []
  }
 ],
 "metadata": {
  "kernelspec": {
   "display_name": "Python 3",
   "language": "python",
   "name": "python3"
  },
  "language_info": {
   "codemirror_mode": {
    "name": "ipython",
    "version": 3
   },
   "file_extension": ".py",
   "mimetype": "text/x-python",
   "name": "python",
   "nbconvert_exporter": "python",
   "pygments_lexer": "ipython3",
   "version": "3.11.3"
  },
  "orig_nbformat": 4
 },
 "nbformat": 4,
 "nbformat_minor": 2
}
