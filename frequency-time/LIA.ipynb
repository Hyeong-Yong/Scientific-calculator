{
 "cells": [
  {
   "cell_type": "code",
   "execution_count": null,
   "metadata": {},
   "outputs": [
    {
     "name": "stdout",
     "output_type": "stream",
     "text": [
      "Sampling frequency:  5.0 kHz\n"
     ]
    }
   ],
   "source": [
    "# time => frequency\n",
    "import math\n",
    "\n",
    "time_constant = 200 * math.pow(10, -6)\n",
    "\n",
    "Sampling_frequency = (1/time_constant) / math.pow(10, 3)\n",
    "# 200kHz로 측정 가능 \n",
    "\n",
    "print ('Sampling frequency: ' ,Sampling_frequency, 'kHz') \n",
    "\n"
   ]
  },
  {
   "cell_type": "code",
   "execution_count": 1,
   "metadata": {},
   "outputs": [
    {
     "name": "stdout",
     "output_type": "stream",
     "text": [
      "time: 1.0\n"
     ]
    }
   ],
   "source": [
    "#frequency => time\n",
    "import math \n",
    "frequency = 1000 * math.pow(10, 6)\n",
    "# Inversion and set to ns\n",
    "time = 1/frequency * math.pow(10, 9) \n",
    "print('time:', time)\n",
    "\n"
   ]
  },
  {
   "cell_type": "code",
   "execution_count": 5,
   "metadata": {},
   "outputs": [
    {
     "data": {
      "text/plain": [
       "3.75"
      ]
     },
     "execution_count": 5,
     "metadata": {},
     "output_type": "execute_result"
    }
   ],
   "source": [
    "import math \n",
    "2.5*math.pow(10, 6)*(1.5*math.pow(10, -6))"
   ]
  }
 ],
 "metadata": {
  "kernelspec": {
   "display_name": "Python 3",
   "language": "python",
   "name": "python3"
  },
  "language_info": {
   "codemirror_mode": {
    "name": "ipython",
    "version": 3
   },
   "file_extension": ".py",
   "mimetype": "text/x-python",
   "name": "python",
   "nbconvert_exporter": "python",
   "pygments_lexer": "ipython3",
   "version": "3.11.1"
  },
  "orig_nbformat": 4
 },
 "nbformat": 4,
 "nbformat_minor": 2
}
