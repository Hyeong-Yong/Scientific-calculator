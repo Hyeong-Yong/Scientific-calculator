{
 "cells": [
  {
   "cell_type": "code",
   "execution_count": 24,
   "metadata": {},
   "outputs": [
    {
     "name": "stdout",
     "output_type": "stream",
     "text": [
      "lambda_a = 0.911854103343465 [mm]\n",
      "lambda_b = 0.9404388714733543 [mm]\n",
      "sythezised_wavelength =  29.999999999999876 [mm]\n"
     ]
    }
   ],
   "source": [
    "frequency_a= 329 * (10**9)# [Hz]\n",
    "frequency_b= 319 * (10**9)# [Hz]\n",
    "\n",
    "c = 3*(10**8) # [m/s]\n",
    "\n",
    "lambda_a = c/frequency_a\n",
    "lambda_b = c/frequency_b\n",
    "\n",
    "lambda_a = lambda_a *1000 # m => mm\n",
    "lambda_b = lambda_b *1000 \n",
    "\n",
    "print(\"lambda_a =\", lambda_a ,\"[mm]\")\n",
    "print('lambda_b =', lambda_b ,'[mm]')\n",
    "\n",
    "sythezised_lambda = (lambda_a*lambda_b)/ (abs(lambda_a-lambda_b))\n",
    "print('sythezised_wavelength = ', sythezised_lambda, \"[mm]\")\n"
   ]
  }
 ],
 "metadata": {
  "kernelspec": {
   "display_name": "Python 3",
   "language": "python",
   "name": "python3"
  },
  "language_info": {
   "codemirror_mode": {
    "name": "ipython",
    "version": 3
   },
   "file_extension": ".py",
   "mimetype": "text/x-python",
   "name": "python",
   "nbconvert_exporter": "python",
   "pygments_lexer": "ipython3",
   "version": "3.11.1"
  },
  "orig_nbformat": 4
 },
 "nbformat": 4,
 "nbformat_minor": 2
}
