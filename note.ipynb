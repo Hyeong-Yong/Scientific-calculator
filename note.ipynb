{
 "cells": [
  {
   "cell_type": "code",
   "execution_count": 6,
   "id": "d1ef6f80",
   "metadata": {},
   "outputs": [
    {
     "name": "stdout",
     "output_type": "stream",
     "text": [
      "23.0\n",
      "3810.9756097560976\n"
     ]
    },
    {
     "data": {
      "text/plain": [
       "0.23885350318471332"
      ]
     },
     "execution_count": 6,
     "metadata": {},
     "output_type": "execute_result"
    }
   ],
   "source": [
    "import math\n",
    "import matplotlib.pyplot as plt\n",
    "import matplotlib.ticker as mticker\n",
    "import numpy as np\n",
    "\n",
    "\n",
    "a = 16 + math.log(128)/math.log(2)\n",
    "print(a)\n",
    "\n",
    "sampling_rate=40/2*10**6/128/(32.5+8.5)\n",
    "print(sampling_rate)\n",
    "# 10.04 => 16.67\n",
    "\n",
    "0.03 /(3.14*0.2*0.2)"
   ]
  }
 ],
 "metadata": {
  "kernelspec": {
   "display_name": "Python 3",
   "language": "python",
   "name": "python3"
  },
  "language_info": {
   "codemirror_mode": {
    "name": "ipython",
    "version": 3
   },
   "file_extension": ".py",
   "mimetype": "text/x-python",
   "name": "python",
   "nbconvert_exporter": "python",
   "pygments_lexer": "ipython3",
   "version": "3.11.1"
  }
 },
 "nbformat": 4,
 "nbformat_minor": 5
}
